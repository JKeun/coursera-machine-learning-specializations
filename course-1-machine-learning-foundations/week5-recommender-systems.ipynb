{
 "cells": [
  {
   "cell_type": "markdown",
   "metadata": {},
   "source": [
    "### Where we see recommender systems\n",
    "- Personalization is transforming our experience of the world\n",
    " - Information overload\n",
    " - Browsing is \"history\"\n",
    "   - Need new ways to discover content\n",
    " - Personalization: Connects users & items\n",
    "- Cases\n",
    " - Movie recommendations\n",
    "   - Connect user with movies they may want to watch\n",
    " - Product recommendations\n",
    "   - Recommendations combine global & session interests\n",
    " - Music recommendations\n",
    "   - Recommendations from coherent & diverse sequence\n",
    " - Friend recommendations\n",
    "   - Users and \"items\" are of the same \"type\"\n",
    " - Drug-target interactions\n",
    "   - What drug should we \"repurpose\" for some disease?"
   ]
  },
  {
   "cell_type": "markdown",
   "metadata": {},
   "source": [
    "### Building a recommender system\n",
    "- Solution 0: Popularity\n",
    " - What are people viewing now? -> Rank by global popularity\n",
    " - Limitation -> *No personalization*\n",
    "\n",
    "\n",
    "- Solution 1: Classification model\n",
    " - What's the probability I'll buy this product?\n",
    " - user info, Purchase history, product info.. -> `Classifier` -> Yes or No\n",
    " - Pros:\n",
    "   - **Personalized:** Considers user info & purchase history\n",
    "   - **Features can capture context:** Time of the day, what I just saw..\n",
    "   - **Even handles limited user history:** Age of user..\n",
    " - Limitations:\n",
    "   - Features may not be available\n",
    "   - Often doesn't perform as well as collaborative filtering methods"
   ]
  },
  {
   "cell_type": "markdown",
   "metadata": {},
   "source": [
    "### Solution 2: Co-occurrence matrix\n",
    "- People who bought *diapers* also bought *baby wipes*\n",
    "- **Matrix C:**\n",
    " - Store # users who bought both items **i & j**\n",
    "   - ($\\text{# items x # items}$) matrix\n",
    "   - **Symmetric**: $\\text{# purchasing i & j same as # for j & i} (C_{ij} = C_{ji})$ \n",
    "   \n",
    "<img src=\"https://image.slidesharecdn.com/cikm-dunning-what-algorithms-really-matter-131031173329-phpapp01/95/which-algorithms-really-matter-45-638.jpg?cb=1383312258\" width=400>"
   ]
  },
  {
   "cell_type": "markdown",
   "metadata": {},
   "source": [
    "### Making recommendations using co-occurence\n",
    "- User purchase *diapers*\n",
    " 1. Look at *diapers* row of matrix\n",
    "   - `[0 .... 4 .... 100 ....]`\n",
    "   - (DVD .... pacifiers .... baby wipes ....)\n",
    " 2. Recommend other items iwth largest counts\n",
    "    - *baby wipes, milk, baby food, ...*"
   ]
  },
  {
   "cell_type": "markdown",
   "metadata": {},
   "source": [
    "### Co-occurrence matrix must be normalized\n",
    "- What if there are very popular items?\n",
    " - Popular baby item: *Pampers Swaddlers diapers*\n",
    " - For any baby item (e.g., *i=Sophie giraffe*)\n",
    "   - large count $C_{ij}$ for *j=Pampers Swaddlers*\n",
    "   - Sophie: `[0 .... 1 million .... ]`\n",
    "   - Sophie: (DVD .... Pampers diapers ....)\n",
    "\n",
    "- Result:\n",
    " - Drowns out ohter effects\n",
    " - Recommend based on popularity"
   ]
  },
  {
   "cell_type": "markdown",
   "metadata": {},
   "source": [
    "### Normalize co-occurrences: Similarity matrix\n",
    "- **Jaccard similarity:** normalizes by popularity\n",
    " - Who purchased **i and j** divided by who purchased **i or j**\n",
    " - $\\frac{\\text{# purchased i and j}}{\\text{# purchased i or j}}$\n",
    "<img src=\"https://image.slidesharecdn.com/slidesforcrowdmm2013-131024052827-phpapp01/95/crowdsourced-object-segmentation-with-a-game-24-638.jpg?cb=1386566914\" width=400>\n",
    "\n",
    "- Many other similarity metrics possible, e.g., **cosine similarity**\n",
    "\n",
    "\n",
    "- **Limitations**\n",
    " - Only current page matters, **no history**\n",
    "   - Recommend similar items to the one you bought\n",
    " - What if you purchased many items?\n",
    "   - Want recommendations based on purchase history"
   ]
  },
  {
   "cell_type": "markdown",
   "metadata": {},
   "source": [
    "### (Weighted) Average of purchased items\n",
    "- User bought items *{diapers, milk}*\n",
    " - Compute user-specific score for each item **j** in inventory by combining similarities:\n",
    "   - $\\text{Score(user, baby wipes)} = w_1 \\cdot S_{\\text{baby wipes, diapers}} + w_2 S_{\\text{baby wipes, milk}}$\n",
    " - Could also weight recent purchases more\n",
    " \n",
    "- Sort $\\text{Score(user, j)}$ and find item $j$ with highest similarity\n",
    "\n",
    "\n",
    "- **Limitations**\n",
    " - Does **not** utilize:\n",
    "    - context (e.g., time of day)\n",
    "    - user features (e.g., age)\n",
    "    - product features (e.g., baby vs. electronics)\n",
    "  - Cold start problem\n",
    "    - What if a new user or product arrives?"
   ]
  },
  {
   "cell_type": "markdown",
   "metadata": {},
   "source": [
    "### Solution 3: Discovering hidden structure by matrix factorization\n",
    "- Movie recommendation\n",
    " - Users watch movies and rate them\n",
    " - Each user only watches a few of the available movies\n",
    "- Matrix completion problem\n",
    " - Rating = `[Movies x Users]` (**sparse matrix**)\n",
    " - Data: Users score some movies ($\\text{u: user, v:movie}$)\n",
    "   - $\\text{Rating(u,v)}$ known for black cells\n",
    "   - $\\text{Rating(u,v)}$ unknown for white cells\n",
    " - Goal: Filling missing data\n",
    "- Suppose we had $d$ topics for each user and movie\n",
    " - Describe *movie $v$* with topics $R_v$\n",
    "   - How much is it *action, romance, darama ...*\n",
    "   - $R_v$ = `[0.3, 0.01, 1.5, ...]`\n",
    " - Describe *user $u$* with topics $L_u$\n",
    "   - How much she likes *action, romance, darama ...*\n",
    "   - $L_u$ = `[2.5, 0, 0.8, ...]`\n",
    " - $\\text{Rating}(u,v)$ is the product of the two vectors\n",
    "   - $R_v$ = `[0.3, 0.01, 1.5, ...]`\n",
    "   - $L_u$ = `[2.5, 0, 0.8, ...]`\n",
    "     - $0.3 \\cdot 2.5 + 0 + 1.5 \\cdot 0.8 + ... = 7.2$\n",
    "   - $L_u'$ = `[0, 3.5, 0.001, ...]`\n",
    "     - $0 + 0.01 \\cdot 3.5 + 1.5 \\cdot 0.01 + ... = 0.8$\n",
    " - **Recommendations:** sort movies user hasn't watched by $\\text{Rating}(u,v)$"
   ]
  },
  {
   "cell_type": "markdown",
   "metadata": {},
   "source": [
    "#### Predictions in matrix form ( sparse )\n",
    "- $\\text{Rating(u, v)} = $\n",
    "$\n",
    "\\begin{bmatrix}\n",
    "u_1, v_1 &  u_1, v_2 & ... & u_1, v_j \\\\\n",
    "u_2, v_1 &  u_2, v_2 & ... & u_2, v_j \\\\\n",
    "\\vdots &  \\vdots & \\ddots & \\vdots \\\\\n",
    "u_i, v_1 &  u_i, v_2 & ... & u_i, v_j \\\\\n",
    "\\end{bmatrix}\n",
    "\\approx\n",
    "\\begin{bmatrix}\n",
    "L_1 \\cdot R_1 &  L_1 \\cdot R_2 & ... & L_1 \\cdot R_v \\\\\n",
    "L_2 \\cdot R_1 &  L_2 \\cdot R_2 & ... & L_2 \\cdot R_v \\\\\n",
    "\\vdots &  \\vdots & \\ddots & \\vdots \\\\\n",
    "L_u \\cdot R_1 &  L_u \\cdot R_2 & ... & L_u \\cdot R_v \\\\\n",
    "\\end{bmatrix}\n",
    "$\n",
    "$ \\qquad\\qquad\\qquad\\qquad\\qquad\\qquad\\qquad\\qquad~~~~~\n",
    "=\n",
    "\\begin{bmatrix}\n",
    "L_1 \\\\\n",
    "L_2 \\\\\n",
    "\\vdots \\\\\n",
    "L_i\n",
    "\\end{bmatrix}\n",
    "\\cdot\n",
    "\\begin{bmatrix}\n",
    "R_1 & R_2 & \\cdots & R_j\n",
    "\\end{bmatrix}\n",
    "= <L_u, R_v>\n",
    "$\n",
    "\n",
    "- $\\text{Rating(u, v)} = $ is real rating table\n",
    "- $<L_u, R_v>$ is predicted rating table"
   ]
  },
  {
   "cell_type": "markdown",
   "metadata": {},
   "source": [
    "#### Matrix factorization model: Discovering topics from data\n",
    "- $\\text{Rating(u, v)} ~ \\approx ~ <L_u, R_v>$\n",
    " - $L, R^\\prime$ are **Parameters of model**\n",
    " \n",
    " \n",
    "- $RSS(L, R) = (\\text{Rating(u, v)}~ - <L_u, R_v>)^2 + \\text{[include all (u', v') pairs where Rating(u', v') are available]}$\n",
    " - Many efficient algorithms for factorization\n",
    "\n",
    "\n",
    "- Only use observed values to estimate \"topic\" vectors $\\hat{L_u}$ and $\\hat{R_v}$\n",
    "- Use estimated $\\hat{L_u}$ and $\\hat{R_v}$ for recommendations"
   ]
  },
  {
   "cell_type": "markdown",
   "metadata": {},
   "source": [
    "#### Limitations of matrix factorization\n",
    "- Cld-start problem\n",
    " - This model still cannot handle a new user or movie"
   ]
  },
  {
   "cell_type": "markdown",
   "metadata": {},
   "source": [
    "### Combining features and discovered topics\n",
    "- Features capture **context**\n",
    " - *Time of day, what I just saw, user info, past purchases, ...*\n",
    "= Discovered topics from matrix factorization capture **groups of users** who behave similarly\n",
    " - *Women from Seattle who teach and have a baby*\n",
    " \n",
    "\n",
    "- **Combine** to mitigate cold-start problem\n",
    " - Ratings for a new user from **features** only\n",
    " - As more information about user is discovered, matrix factorization **topics** become more relevant\n",
    " \n",
    "#### Blending models ( Ensemble )\n",
    "- Squeezing last bit of accuracy by blending models\n",
    "- Netflix Prize 2006 - 2009\n",
    " - 100M ratings\n",
    " - 17,700 moveis\n",
    " - 480,189 users\n",
    " - Predict 3 million ratings to highest accuracy\n",
    " - **Winning team blended over 100 models**"
   ]
  },
  {
   "cell_type": "markdown",
   "metadata": {},
   "source": [
    "### A performance metric for recommender systems\n",
    "\n",
    "#### Why not use classification accuracy?\n",
    "- Classification accuracy = *fraction of items correctly classified* (liked vs. not liked)\n",
    "- Here, not interested in what a person does not like\n",
    "- Rather, how quickly can we discover the relatively few liked items?\n",
    " - **(Partially) an imbalanced class problem**\n",
    "- Highly risk, when we recommend not like items to user, rather than we could not\n",
    "\n",
    "\n",
    "**Recall** = $\\frac{\\text{# liked & shown}}{\\text{# liked}}$\n",
    " - How many itmes I like was shown in items I like\n",
    " \n",
    "**Precision** = $\\frac{\\text{# liked & shown}}{\\text{shown}}$\n",
    " - How many items I like was shown in items was recommended"
   ]
  },
  {
   "cell_type": "markdown",
   "metadata": {},
   "source": [
    "#### Maximize recall:\n",
    "- Just recommend everything -> Recall = 1\n",
    "- Then, Rrecision = small or almost zero\n",
    "- **Not good**\n",
    "\n",
    "#### Optimal recommender\n",
    "- Recall = 1\n",
    "- Precision = 1\n",
    "- The only things that I like was recommended!\n",
    "\n",
    "#### Precision-recall curve\n",
    "- Input: A specific recommender system\n",
    "- Output: Algorithm-specific **precision-recall curve**\n",
    "\n",
    "\n",
    "- To draw curve, vary threshold on # items recommended\n",
    " - For each setting, calculate the *precision and recall*\n",
    " \n",
    "<img src=\"http://payload243.cargocollective.com/1/14/470136/7176781/precision-recall-eng-captioned_o.png\" width=400>\n",
    "\n",
    "#### Whici Algorithm is Best?\n",
    "- For a given *precision*, want *recall* as large as possible (or vice versa)\n",
    "- One metric: largest **area under the curve (AUC)**\n",
    "- Another: set desired recall and maximaize precision (*precision at k*)"
   ]
  },
  {
   "cell_type": "markdown",
   "metadata": {},
   "source": [
    "### Clustering and similarity ML block diagram\n",
    "- `Training Data`( user, product, ratings table ) -> `Featrue extraction` -> $x$ ( user_id, product_id, age, gender, product description, ... )\n",
    "- $x$ -> `ML model(matrix factorization)` ( $\\hat{w} : \\left\\{ \\hat{L_u}, \\hat{R_v} \\right\\}, \\hat{w_0}$ ) -> $\\hat{y}$ ( predicted rating )\n",
    "- `y` is actual ratings\n",
    "- `Quality metric` -> `ML algorithm ( RSS )` -> ROC curve & AUC -> $\\hat{w}$\n",
    " - loop, updating for maximize AUC or other metrics"
   ]
  }
 ],
 "metadata": {
  "kernelspec": {
   "display_name": "Python 2",
   "language": "python",
   "name": "python2"
  },
  "language_info": {
   "codemirror_mode": {
    "name": "ipython",
    "version": 2
   },
   "file_extension": ".py",
   "mimetype": "text/x-python",
   "name": "python",
   "nbconvert_exporter": "python",
   "pygments_lexer": "ipython2",
   "version": "2.7.10"
  }
 },
 "nbformat": 4,
 "nbformat_minor": 2
}
