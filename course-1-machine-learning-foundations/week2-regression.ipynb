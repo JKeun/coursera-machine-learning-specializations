{
 "cells": [
  {
   "cell_type": "markdown",
   "metadata": {},
   "source": [
    "### Predicting house prices\n",
    "\n",
    "- How much is my house worth?\n",
    "- Look at recent sales in my neighborhood\n",
    " - How much did they sell for?\n",
    "- Plot recent house sales (Past 2 years )\n",
    " - X: squre feet(sq.ft.), y: prices($)\n",
    "- No house sold recently had *exactly* the smae sq.ft. \n",
    "- Look at average price in range\n",
    " - Still only 2 houses!\n",
    " - Throwing out info from all other sales\n",
    "- **\"We want to use all data to predict our house price!\"**\n",
    "\n",
    "\n",
    "#### Terminology:\n",
    "- X: feature, covariate or predictor\n",
    "- y: observation or response"
   ]
  },
  {
   "cell_type": "markdown",
   "metadata": {},
   "source": [
    "### Use a Linear regression model\n",
    "\n",
    "- Fit a line through the data\n",
    " - $f_w(X) = w_0 + w_1X$ : function parameterized by $w$\n",
    " - $w = (w_0, w_1)$\n",
    "- Which line?\n",
    " - There are many lines by differenct parameters $w$\n",
    "- \"Cost\" of using a given line\n",
    " - Residual sum of squares (RSS)"
   ]
  },
  {
   "cell_type": "markdown",
   "metadata": {},
   "source": [
    "### RSS (Residual sum of squares)\n",
    "\n",
    "- Minimize cost over all possible $w_0, w_1$\n",
    "\n",
    "$$\n",
    "RSS(w_0, w_1) = \\\\\n",
    "($_{house1} - [w_0 + w_1 \\text{sq.ft.}_{house1}]^2 \\\\\n",
    "+ ($_{house2} - [w_0 + w_1 \\text{sq.ft.}_{house2}]^2 \\\\\n",
    "+ \\cdots \\text{[include all houses]}\n",
    "$$\n",
    "\n",
    "- Find $\\hat{w} = (\\hat{w_0}, \\hat{w_1})$"
   ]
  },
  {
   "cell_type": "markdown",
   "metadata": {},
   "source": [
    "### Predicting your house price\n",
    "\n",
    "- $f_\\hat{w(X)} = \\hat{w_0} + \\hat{w_1}X$\n",
    "- Best quess of your house price:\n",
    " - $\\hat{y} = \\hat{w_0} + \\hat{w_1} \\text{sq.ft.}_{your house}$"
   ]
  },
  {
   "cell_type": "markdown",
   "metadata": {},
   "source": [
    "### Adding higher order effects\n",
    "- Fit data with a line or ...?\n",
    " - \"Dude, it's not a linear relationship!\"\n",
    "- What about a quadratic function?\n",
    " - $f_w(X) = w_0 + w_1X + w_2X^2$\n",
    "- Even higher order polynomial\n",
    " - \"I can minimize my RSS!\"\n",
    "- BUT, Do you believe this fit?"
   ]
  },
  {
   "cell_type": "markdown",
   "metadata": {},
   "source": [
    "### Evaludating overfitting via training/test split\n",
    "- How to choose model order/complexity\n",
    " - Want good predictions, but can;t observe future\n",
    "- Simulate predictions\n",
    " - Remove some houses\n",
    " - Fit model on remaining ( training set )\n",
    " - Predict heldout houses ( test set )"
   ]
  },
  {
   "cell_type": "markdown",
   "metadata": {},
   "source": [
    "### Training/Test Curves\n",
    "- More complexity\n",
    " - decrease training error\n",
    " - decrease some period time, but after the point error starts to increasing again ( test error )"
   ]
  },
  {
   "cell_type": "markdown",
   "metadata": {},
   "source": [
    "### Adding other features\n",
    "- Prodictions just based on house size\n",
    "- Add more features\n",
    " - square feet\n",
    " - \\# bathrooms\n",
    "- Fitting Hyperplane\n",
    "\n",
    "$$f_w(x) = w_0 + w_1 \\text{sq.ft.} + w_2 \\text{#bath}$$"
   ]
  },
  {
   "cell_type": "markdown",
   "metadata": {},
   "source": [
    "### Regression ML block diagram\n",
    "- `Training Data` -> `Featrue extraction` -> $x$\n",
    "- $x$ -> `ML model` ( $\\hat{w}$ ) -> $\\hat{y}$\n",
    "- `Quality metric` -> `ML algorithm` -> RSS ( $y-\\hat{y}$ ) -> $\\hat{w}$\n",
    " - loop, updating the weights or model parameters"
   ]
  }
 ],
 "metadata": {
  "kernelspec": {
   "display_name": "Python 2",
   "language": "python",
   "name": "python2"
  },
  "language_info": {
   "codemirror_mode": {
    "name": "ipython",
    "version": 2
   },
   "file_extension": ".py",
   "mimetype": "text/x-python",
   "name": "python",
   "nbconvert_exporter": "python",
   "pygments_lexer": "ipython2",
   "version": "2.7.10"
  }
 },
 "nbformat": 4,
 "nbformat_minor": 2
}
