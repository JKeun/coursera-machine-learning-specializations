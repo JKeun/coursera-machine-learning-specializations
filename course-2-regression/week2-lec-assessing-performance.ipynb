{
 "cells": [
  {
   "cell_type": "markdown",
   "metadata": {},
   "source": [
    "## Assessing Performance"
   ]
  },
  {
   "cell_type": "markdown",
   "metadata": {},
   "source": [
    "### Measuring loss\n",
    "- Model + algorithm -> fitted function\n",
    "- Predictions -> decisions -> outcome"
   ]
  },
  {
   "cell_type": "markdown",
   "metadata": {},
   "source": [
    "### Polynomial regression\n",
    "- More complex functions of a single input\n",
    "- Model:\n",
    " - $y_i = w_0 + w_1x_i + w_2{x_i}^2 + \\cdots + w_p{x_i}^p + \\epsilon_i$\n",
    "- Features:\n",
    " - feature 1 = 1 (constant)\n",
    " - feature 2 = $x$\n",
    " - feature 3 = $x^2$\n",
    " - feature p+1 = ${x}^p$\n",
    "- Parameters:\n",
    " - parameter 1 = $w_0$\n",
    " - parameter 2 = $w_1$\n",
    " - parameter 3 = $w_2$\n",
    " - parameter p+1 = $w_p$"
   ]
  },
  {
   "cell_type": "markdown",
   "metadata": {},
   "source": [
    "### Modeling seasonality\n",
    "- On average, house prices tend to increase with time\n",
    "- Most houses listed in summer + good houses sell quickly\n",
    "- Few homes listed in Nov./Dec. + transactions often leftover inventory or special circumstances\n",
    "- Model:\n",
    " - $y_i = w_0 + w_1t_i + w_2\\sin{(2\\pi t_i / 12 - \\Phi)} + \\epsilon_i$\n",
    " - $t_i$ : linear trend\n",
    " - $\\sin{(2\\pi t_i / 12 - \\Phi)}$ : seasonal compoenet = sinusoid with period 12 (resets annually)\n",
    " - $\\Phi$ : Unknown phase/shift\n",
    "- Trigonometric identity: $\\sin{(a-b)} = \\sin{(a)}\\cos{(b)} - \\cos{(a)}\\sin{(b)}$\n",
    " - $\\sin{(2\\pi t_i / 12 - \\Phi)} = \\sin{(2\\pi t_i / 12)}\\cos{(\\Phi)} - \\cos{(2\\pi t_i / 12)}\\sin{(\\Phi)}$\n",
    "- Equivalently,\n",
    " - $y_i = w_0 + w_1t_i + w_2\\sin{(2\\pi t_i / 12)} + w_3\\cos{(2\\pi t_i / 12)} + \\epsilon_i$\n",
    "- Features:\n",
    " - feature 1 = 1 (constant)\n",
    " - feature 2 = $t$\n",
    " - feature 3 = $\\sin{(2\\pi t / 12)}$\n",
    " - feature 4 = $\\cos{(2\\pi t / 12)}$\n",
    "- Fit **polynomial trend** and sinusoidal **seasonal component**\n",
    "<img src=\"./figures/w2-f1.png\" width=400>"
   ]
  },
  {
   "cell_type": "markdown",
   "metadata": {},
   "source": [
    "### Regression with general features of 1 input\n",
    "- Generic basis expansion\n",
    " - $y_i = w_0h_0(x_i) + w_1h_1(x_i) + \\cdots + w_Dh_D(x_i) + \\epsilon_i$\n",
    " - $= \\sum_j^D{w_jh_j(x_i) + \\epsilon_i}$\n",
    " - $w_j$ : jth regression coefficient or weight\n",
    " - $h_j(x_i)$ : jth feature\n",
    "- Features:\n",
    " - feature 1 = $h_0(x)$ ...often 1 (constant)\n",
    " - feature 2 = $h_1(x)$ ... e.g., $x$\n",
    " - feature 3 = $h_2(x)$ ... e.g., $x^2$ or $\\sin{(2\\pi x / 12)}$\n",
    " - faeture D+1 = $h_D(x)$  ... e.g., $x^D$\n",
    "<img src=\"./figures/w2-f2.png\" width=400>"
   ]
  },
  {
   "cell_type": "markdown",
   "metadata": {},
   "source": [
    "### Incorporating multiple inputs\n",
    "- General notation\n",
    " - Output (scalar) : $y$\n",
    " - Inputs (d-dim vector) : $X = (X[1], X[2], \\cdots , X[d])$\n",
    " - Notational conventions:\n",
    "   - $X[j]$ = jth input (scalar)\n",
    "   - $h_j(X)$ = jth feature (scalar)\n",
    "   - $X_i$ = input of ith data point (vector)\n",
    "   - $X_i[j]$ = jth input of ith data point (scalar)\n",
    "- Simple hyperplane\n",
    " - Model:\n",
    "   - $y_i = w_0 + w_1 X_i[1] + \\cdots + w_d X_i[d]+ \\epsilon_i$\n",
    " - Features:\n",
    "   - feature 1 = $1$ ...often 1 (constant)\n",
    "   - feature 2 = $X[1]$ ... e.g., sq. ft.\n",
    "   - feature 3 = $X[2]$ ... e.g., #bath\n",
    "   - faeture d+1 = $X[d]$  ... e.g., lot size\n",
    "- More generically - D-dimensional curve\n",
    " - `Model:`\n",
    "   - $y_i = w_0 h_0(X_i) + w_1 h_1(X_i) + \\cdots + w_D h_D(x_i)+ \\epsilon_i = \\sum^D_j{w_jh_j(X_i)} + \\epsilon_i$\n",
    " - Features:\n",
    "   - feature 1 = $h_0(X)$ ... e.g., 1\n",
    "   - feature 2 = $h_1(X)$ ... e.g., $X[1]$ = sq. ft.\n",
    "   - feature 3 = $h_2(X)$ ... e.g., $X[2]$ = #bath or, $\\log{(X[7])}X[2]$ = log(#bed) x #bath\n",
    "   - faeture D+1 = $h_D(X)$  ... some other function of $X[1], ..., X[d]$\n",
    "- More on notation\n",
    " - \\# observations $(X_i, y_i)$ : N\n",
    " - \\# inputs $X[j]$ : d\n",
    " - \\# features $h_j(X)$ : D"
   ]
  },
  {
   "cell_type": "markdown",
   "metadata": {},
   "source": [
    "- Interpreting the multiple regression fit\n",
    " - Fix all the other inputs in the model, and just look at that one that we can vary\n",
    "<img src=\"./figures/w2-f3.png\" width=350 align=\"left\">\n",
    "<img src=\"./figures/w2-f4.png\" width=350 align=\"right\">\n",
    "<img src=\"./figures/w2-f5.png\" width=400>\n",
    "- `Common mistake to just look at the coefficient`\n",
    " - what if, fixed sq. ft. and \\# of bedrooms is increasing -> house values will be decreased\n",
    " - but, what if we exclude sq. ft. of input, house values will be increased\n",
    " - **Think about the coefficient and the context of what you'vve put into the model**"
   ]
  },
  {
   "cell_type": "markdown",
   "metadata": {},
   "source": [
    "### Setting the stage for computing the least squares fit\n",
    "- Rewrite in matrix notation\n",
    " - $y_i = \\sum^D_j{w_jh_j(X_i)} + \\epsilon_i$\n",
    "- For single ovbservation\n",
    "<img src=\"./figures/w2-f6.png\" width=500>\n",
    "- For all ovbservations\n",
    "<img src=\"./figures/w2-f7.png\" width=500>\n",
    "\n",
    "- Computing the cost of a D-dimensional curve\n",
    " - RSS(w) = $\\sum^N_i{(y_i - h(X_i)^T w)^2} = (y-Hw)^T(y-hw)$\n",
    "<img src=\"./figures/w2-f8.png\" width=500>\n",
    " - Why?\n",
    "   - $\\hat{y} = Hw$\n",
    "   - $(y - \\hat{y}) = \\begin{bmatrix} residual_1 \\\\ residual_2 \\\\ \\vdots \\\\ residual_N \\end{bmatrix}$\n",
    "   - $(y - \\hat{y})^T (y - \\hat{y}) = \\begin{bmatrix} residual_1 & residual_2 & \\cdots & residual_N \\end{bmatrix} \\begin{bmatrix} residual_1 \\\\ residual_2 \\\\ \\vdots \\\\ residual_N \\end{bmatrix}$\n",
    "<img src=\"./figures/w2-f9.png\" width=500>\n",
    "<img src=\"./figures/w2-f10.png\" width=500>"
   ]
  },
  {
   "cell_type": "markdown",
   "metadata": {},
   "source": [
    "### Computing the least squares D-dimensional curve\n",
    "- Gradient of RSS\n",
    " - $\\nabla RSS(w) = \\nabla [(y-Hw)^T (y-Hw)] = -2H^T(y-Hw)$\n",
    "- Why? by analogy to 1D case:\n",
    " - $\\frac{d}{dw}(y-hw)(y-hw) = \\frac{d}{dw}(y-hw)^2 = -2h(y-hw)$\n",
    " - because $(y-hw)$ is scalar"
   ]
  },
  {
   "cell_type": "markdown",
   "metadata": {},
   "source": [
    "- **Approach 1: closed-form solution**\n",
    " - $\\nabla RSS(w) = -2H^T(y-Hw) = 0$\n",
    " - Solve for $w$:\n",
    "   - $-H^Ty + H^TH\\hat{w} = 0$\n",
    "   - $H^TH\\hat{w} = H^Ty$\n",
    "   - $(H^TH)^{-1}H^TH\\hat{w} = (H^TH)^{1}H^Ty$\n",
    "     - because $A^{-1}A = I$ and $Iv = v$\n",
    "   - $\\hat{w} = (H^TH)^{-1}H^Ty$\n",
    " - \\# features = $D$\n",
    "   - $H^TH$ = $D x D$ matrix\n",
    "   - $(H^TH)^{-1}$ is invertible\n",
    "     - in most cases is $N > D$\n",
    "     - really, \\# of linearly independent observations N\n",
    "   - Complexity of inverse:\n",
    "     - $O(D^3)$, \\# of features cubed\n",
    "   - Total complexity\n",
    "     - $O(ND^2 + D^3)$ is total complexity\n",
    "       - $O(ND^2)$ is for $H^TH$\n",
    "       - $O(D^3)$ is for inverse matrix\n",
    "<img src=\"./figures/w2-f11.png\" width=500>"
   ]
  },
  {
   "cell_type": "markdown",
   "metadata": {},
   "source": [
    "- **Approach 2: gradient descent**\n",
    " - while not converged\n",
    "   - $w^{(t+1)} \\gets w^{(t)} - \\eta \\nabla RSS(w^{(t)})$\n",
    "   - $~~~~~~~~~ \\gets w^{(t)} + 2\\eta H^T(y-Hw^{(t)})$\n",
    "   - $~~~~~~~~~ \\gets w^{(t)} + 2\\eta H^T(y-\\hat{y}(w^{(t)}))$\n",
    " - Feature-by-feature update\n",
    "   - RSS(w) = $\\sum^N_i{(y_i - h(X_i)^T w)^2}$\n",
    "   - $~~~~~~~~~~~~~~\\sum^N_i{(y_i - w_0h_0(X_i) - w_1h_1(X_i) - \\cdots -w_Dh_D(X_i))^2}$\n",
    "   - **Partial with respect to $w_j$**\n",
    "     - $\\frac{\\partial RSS(w)}{\\partial w_j} = \\sum^N_i{2(y_i - w_0h_0(X_i) - w_1h_1(X_i) - \\cdots -w_Dh_D(X_i))} (-h_j(X_i))$\n",
    "     - $~~~~~~~~~~~ = -2\\sum^N_i{h_j(X_i)(y_i - h(X_i)^T w)}$\n",
    "<img src=\"./figures/w2-f12.png\" width=500>     \n",
    "\n",
    "   - **Update to $j^{th}$ feature weight:**\n",
    "     - $w_j^{(t+1)} \\gets w_j^{(t)} - \\eta (-2\\sum^N_i{h_j(X_i)(y_i - h(X_i)^T w^{(t)})})$\n",
    "     - $~~~~~~~~~ \\gets  w_j^{(t)} +2\\eta \\sum^N_i{h_j(X_i)(y_i - \\hat{y}_i(w^{(t)}))}$\n",
    "<img src=\"./figures/w2-f13.png\" width=500>\n",
    "\n",
    " - Summary of gradient descent for multiple regression\n",
    "   - init $w^{(1)} = 0$ (or randomly, or smartly), $t=1$\n",
    "   - **while** $|| \\nabla RSS(w^{(t)})|| > \\epsilon$, $\\epsilon$ is tolerance\n",
    "     - **for** j = 0, ..., D\n",
    "       - $\\text{partial[j]} = -2\\sum^N_i{h_j(X_i)(y_i - \\hat{y}_i(w^{(t)}))}$\n",
    "       - $w_j^{(t+1)} \\gets w_j^{(t)} - \\eta \\text{partial[j]}$\n",
    "     - $t \\gets t + 1$\n",
    "<img src=\"./figures/w2-f14.png\" width=500>"
   ]
  },
  {
   "cell_type": "markdown",
   "metadata": {},
   "source": [
    "### What you can do now...\n",
    "- Describe polynomial regression\n",
    "- Detrend a time series using trend and seasonal componenets\n",
    "- Write a regression model using multiple inputs or features thereof\n",
    "- Cast both polynomial regression and regression with multiple inputs as regression with multiple features\n",
    "- Calculate a goodness-of-fit metric (e.g., RSS)\n",
    "- Estimate model parameters of a general multiple regression model to minimize RSS:\n",
    " - In closed form\n",
    " - Using an iterative gradient descent algorithm\n",
    "- Interpret the coefficients of a non-featurized multiple regression fit\n",
    "- Exploit the estimated model to form predictions\n",
    "- Explain applications of multiple regression beyond house price modeling"
   ]
  }
 ],
 "metadata": {
  "kernelspec": {
   "display_name": "Python 2",
   "language": "python",
   "name": "python2"
  },
  "language_info": {
   "codemirror_mode": {
    "name": "ipython",
    "version": 2
   },
   "file_extension": ".py",
   "mimetype": "text/x-python",
   "name": "python",
   "nbconvert_exporter": "python",
   "pygments_lexer": "ipython2",
   "version": "2.7.15"
  }
 },
 "nbformat": 4,
 "nbformat_minor": 2
}
