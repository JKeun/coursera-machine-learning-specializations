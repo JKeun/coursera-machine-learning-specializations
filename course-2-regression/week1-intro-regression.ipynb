{
 "cells": [
  {
   "cell_type": "markdown",
   "metadata": {},
   "source": [
    "### What is regression?\n",
    "- From features to predictions\n",
    " - `Data` -> input x: features derived from data -> `Regression`\n",
    " - `Regression`: Learn x -> y relationship -> `Intelligence`\n",
    " - `Intelligence`: continuous \"output\" or \"response\" to input"
   ]
  },
  {
   "cell_type": "markdown",
   "metadata": {},
   "source": [
    "### Module 1: Simple Regression\n",
    "- What makes it simple?\n",
    " - **1 input** and just **fit a line** to data\n",
    "- Define **goodness-of-fit** metric for each possible line\n",
    "- **Gradient descent algorithm**\n",
    "- **Get estimated parameters**\n",
    " - interpret\n",
    " - use to form predictions"
   ]
  },
  {
   "cell_type": "markdown",
   "metadata": {},
   "source": [
    "### Module 2: Multiple Regression\n",
    "- Fit **more complex relationships** than just a line\n",
    "- Incorporate more inputs"
   ]
  },
  {
   "cell_type": "markdown",
   "metadata": {},
   "source": [
    "### Module 3: Assessing Performance\n",
    "- Overfit\n",
    "- Measures of error:\n",
    " - Training\n",
    " - Test\n",
    " - True (generalization)\n",
    "- Bias-variance tradeoff"
   ]
  },
  {
   "cell_type": "markdown",
   "metadata": {},
   "source": [
    "### Module 4: Ridge Regression\n",
    "- **Ridge total cost =**\n",
    " - **measure of fit + measure of model complexity**\n",
    " - bias-variance tradeoff\n",
    "- How to choose balance? (i.e., model complexity)\n",
    " - **Cross validation**"
   ]
  },
  {
   "cell_type": "markdown",
   "metadata": {},
   "source": [
    "### Module 5: Feature Selection & Lasso Regression\n",
    "- Useful for **efficiency** of predictions and **interpretability**\n",
    "- **Lasso total cost =**\n",
    " - **measure of fit + (different) measure of model complexity**\n",
    " - **knocks out certain features... \"sparsity\"**\n",
    " - Coordinate descent algorithm"
   ]
  },
  {
   "cell_type": "markdown",
   "metadata": {},
   "source": [
    "### Module 6: Nearest Neighbor & Kernel Regression\n",
    "- Find the most similar one to mine"
   ]
  },
  {
   "cell_type": "markdown",
   "metadata": {},
   "source": [
    "### Summary of what's covered\n",
    "`Models`\n",
    "- Linear regression\n",
    "- Regularization: Ridge (L2), Lasso (L1)\n",
    "- Nearest neighbor and kernel regression\n",
    "\n",
    "`ALgorithms`\n",
    "- Gradient descent\n",
    "- Coordinate descent\n",
    "\n",
    "`Concepts`\n",
    "- Loss functions, bias-variance tradeoff, cross-validation\n",
    "- sparsity, overfitting, model selection, feature selection"
   ]
  }
 ],
 "metadata": {
  "kernelspec": {
   "display_name": "Python 2",
   "language": "python",
   "name": "python2"
  },
  "language_info": {
   "codemirror_mode": {
    "name": "ipython",
    "version": 2
   },
   "file_extension": ".py",
   "mimetype": "text/x-python",
   "name": "python",
   "nbconvert_exporter": "python",
   "pygments_lexer": "ipython2",
   "version": "2.7.10"
  }
 },
 "nbformat": 4,
 "nbformat_minor": 2
}
